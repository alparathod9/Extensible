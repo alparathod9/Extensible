{
  "nbformat": 4,
  "nbformat_minor": 0,
  "metadata": {
    "colab": {
      "provenance": []
    },
    "kernelspec": {
      "name": "python3",
      "display_name": "Python 3"
    },
    "language_info": {
      "name": "python"
    }
  },
  "cells": [
    {
      "cell_type": "markdown",
      "source": [
        "## Pandas Series\n",
        "\n",
        "A Pandas Series is a one-dimensional labeled array that can hold data of various types, such as integers, floats, strings, or even custom objects.\n",
        "It is akin to a column in a spreadsheet or a single variable in statistics. Each element in a Series is assigned an index, allowing for easy data retrieval and manipulation.\n",
        "\n",
        "### Creating Series\n",
        "To Create Pandas Series DataFrame we use `pd.Series()` by converting other data structures like List[] or NumPy arrays, Into Series."
      ],
      "metadata": {
        "id": "x3odIwB-85oZ"
      }
    },
    {
      "cell_type": "code",
      "execution_count": null,
      "metadata": {
        "colab": {
          "base_uri": "https://localhost:8080/"
        },
        "id": "eFpeFLjl8Q3F",
        "outputId": "a101e4e3-cdad-4d30-93d6-b1f3bbb6b1b5"
      },
      "outputs": [
        {
          "output_type": "stream",
          "name": "stdout",
          "text": [
            "0    10\n",
            "1     9\n",
            "2     8\n",
            "3     7\n",
            "4     6\n",
            "dtype: int64\n"
          ]
        }
      ],
      "source": [
        "import pandas as pd\n",
        "\n",
        "data = [10, 9, 8, 7, 6]\n",
        "series = pd.Series(data)\n",
        "print(series)"
      ]
    },
    {
      "cell_type": "markdown",
      "source": [
        "### Accessing Data or Information in Series:\n",
        "\n",
        "Once the Series DataFrame is available we access the Values of the df using `.values` or we can also access it with the help of the Indexing Method. Using `.index`.\n",
        "Pandas support Indexing and Slicing Methods. We can use integer-based positions or label-based indexing."
      ],
      "metadata": {
        "id": "ypQsj__t92o2"
      }
    },
    {
      "cell_type": "code",
      "source": [
        "print(series.values)\n",
        "print(series.index)"
      ],
      "metadata": {
        "colab": {
          "base_uri": "https://localhost:8080/"
        },
        "id": "1qe6Awqw9lIJ",
        "outputId": "3715188e-b56a-4d70-b328-bad56d3f8ef6"
      },
      "execution_count": null,
      "outputs": [
        {
          "output_type": "stream",
          "name": "stdout",
          "text": [
            "[10  9  8  7  6]\n",
            "RangeIndex(start=0, stop=5, step=1)\n"
          ]
        }
      ]
    },
    {
      "cell_type": "markdown",
      "source": [
        "# Integer-based indexing\n"
      ],
      "metadata": {
        "id": "d9mVbnK3_Tz7"
      }
    },
    {
      "cell_type": "code",
      "source": [
        "print(series[0])\n",
        "print(series[1:3])"
      ],
      "metadata": {
        "colab": {
          "base_uri": "https://localhost:8080/"
        },
        "id": "GmrQSECq_Fhi",
        "outputId": "d5c64f8a-60e9-4a93-bffe-93beae5f9fd3"
      },
      "execution_count": null,
      "outputs": [
        {
          "output_type": "stream",
          "name": "stdout",
          "text": [
            "10\n",
            "1    9\n",
            "2    8\n",
            "dtype: int64\n"
          ]
        }
      ]
    },
    {
      "cell_type": "markdown",
      "source": [
        "# Label-based indexing\n"
      ],
      "metadata": {
        "id": "r4t2Ey1p_Y8h"
      }
    },
    {
      "cell_type": "code",
      "source": [
        "series_with_labels = pd.Series(data, index=['Pwskills', 'Physics Wala', 'PWIOI', 'PW', 'Tech'])\n",
        "print(series_with_labels['Physics Wala'])\n",
        "print(series_with_labels['Physics Wala':'PW'])"
      ],
      "metadata": {
        "colab": {
          "base_uri": "https://localhost:8080/"
        },
        "id": "xKC7bF0G_Yng",
        "outputId": "ee12e2fa-cbfb-4d25-8214-ccbf43cfe3be"
      },
      "execution_count": null,
      "outputs": [
        {
          "output_type": "stream",
          "name": "stdout",
          "text": [
            "9\n",
            "Physics Wala    9\n",
            "PWIOI           8\n",
            "PW              7\n",
            "dtype: int64\n"
          ]
        }
      ]
    },
    {
      "cell_type": "markdown",
      "source": [
        "### Data Alignment:\n",
        "\n",
        "One of the powerful features of Pandas Series is data alignment.\n",
        "When performing operations on multiple Series, Pandas aligns data based on index labels, making it easy to work with incomplete or differently indexed data.\n"
      ],
      "metadata": {
        "id": "0KGlK5oiAp_8"
      }
    },
    {
      "cell_type": "code",
      "source": [
        "s1 = pd.Series([10, 9, 8], index=['Pwskills', 'Physics Wala', 'PWIOI'])\n",
        "s2 = pd.Series([7, 6, 7], index=['Physics Wala','PWIOI', 'PW'])\n",
        "\n",
        "result = s1 + s2\n"
      ],
      "metadata": {
        "id": "Mm9FidKXAlzC"
      },
      "execution_count": null,
      "outputs": []
    },
    {
      "cell_type": "code",
      "source": [
        "print(result)"
      ],
      "metadata": {
        "colab": {
          "base_uri": "https://localhost:8080/"
        },
        "id": "C9aLivgDAggS",
        "outputId": "3a35bc75-bc06-4e1a-e47b-0f6a359d1499"
      },
      "execution_count": null,
      "outputs": [
        {
          "output_type": "stream",
          "name": "stdout",
          "text": [
            "PW               NaN\n",
            "PWIOI           14.0\n",
            "Physics Wala    16.0\n",
            "Pwskills         NaN\n",
            "dtype: float64\n"
          ]
        }
      ]
    }
  ]
}